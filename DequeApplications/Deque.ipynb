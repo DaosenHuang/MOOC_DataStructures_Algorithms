{
 "cells": [
  {
   "cell_type": "code",
   "execution_count": 4,
   "metadata": {},
   "outputs": [
    {
     "name": "stdout",
     "output_type": "stream",
     "text": [
      "['任丹丹', '黄雨']\n",
      "上海自来水来自海上\n",
      "这是一个回文句子！\n"
     ]
    }
   ],
   "source": [
    "# 双端队列\n",
    "class Deque:\n",
    "    def __init__(self):\n",
    "        self.items = []\n",
    "    def isEmpty(self):\n",
    "        return self.items == []\n",
    "    def addFront(self,item):\n",
    "        self.items.append(item)\n",
    "    def addRear(self,item):\n",
    "        self.items.insert(0, item)\n",
    "    def removeFront(self):\n",
    "        return self.items.pop()\n",
    "    def removeRear(self):\n",
    "        return self.items.pop(0)\n",
    "    def size(self):\n",
    "        return len(self.items)\n",
    "# 测试\n",
    "deque = Deque()\n",
    "deque.addFront(\"黄雨\")\n",
    "deque.addRear(\"任丹丹\")\n",
    "print(deque.items)\n",
    " # 回文字的判定\n",
    "def palChecker(palString):\n",
    "    checker = Deque()\n",
    "    for char in palString:\n",
    "        checker.addFront(char)\n",
    "    print(palString)\n",
    "    stillEqual = True\n",
    "    if checker.size()>1 and stillEqual:\n",
    "        if checker.removeFront() != checker.removeRear():\n",
    "            stillEqual = False\n",
    "    if stillEqual:\n",
    "        print(\"这是一个回文句子！\")\n",
    "    else:\n",
    "        print(\"这不是一个回文句子\")\n",
    "        \n",
    "fields = \"上海自来水来自海上\"\n",
    "palChecker(fields)\n",
    "    \n",
    "        "
   ]
  },
  {
   "cell_type": "code",
   "execution_count": null,
   "metadata": {},
   "outputs": [],
   "source": []
  }
 ],
 "metadata": {
  "kernelspec": {
   "display_name": "Python 3",
   "language": "python",
   "name": "python3"
  },
  "language_info": {
   "codemirror_mode": {
    "name": "ipython",
    "version": 3
   },
   "file_extension": ".py",
   "mimetype": "text/x-python",
   "name": "python",
   "nbconvert_exporter": "python",
   "pygments_lexer": "ipython3",
   "version": "3.6.7"
  }
 },
 "nbformat": 4,
 "nbformat_minor": 4
}
