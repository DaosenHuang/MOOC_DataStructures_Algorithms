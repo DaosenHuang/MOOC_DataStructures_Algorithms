{
 "cells": [
  {
   "cell_type": "code",
   "execution_count": 7,
   "metadata": {},
   "outputs": [
    {
     "name": "stdout",
     "output_type": "stream",
     "text": [
      "78\n",
      "67\n"
     ]
    }
   ],
   "source": [
    "# 定义节点\n",
    "class Node:\n",
    "    def __init__(self,initdata):\n",
    "        self.__data = initdata\n",
    "        self.__next = None\n",
    "    def getData(self):\n",
    "        return self.__data\n",
    "    def getNext(self):\n",
    "        return self.__next\n",
    "    def setData(self,item):\n",
    "        self.__data = item\n",
    "    def setNext(self,item):\n",
    "        self.__next = item\n",
    "node = Node(78)\n",
    "node.setNext(67)\n",
    "print(node.getData())\n",
    "print(node.getNext())"
   ]
  },
  {
   "cell_type": "code",
   "execution_count": 35,
   "metadata": {},
   "outputs": [
    {
     "name": "stdout",
     "output_type": "stream",
     "text": [
      "我找到 黄雨 了！\n",
      "3\n",
      "李闯\n",
      "2\n"
     ]
    }
   ],
   "source": [
    "# 无序列表\n",
    "class UnorderedList:\n",
    "    def __init__(self):\n",
    "        self.head = None\n",
    "    def add(self,item):   # 链表添加节点\n",
    "        temp = Node(item)\n",
    "        temp.setNext(self.head)\n",
    "        self.head = temp\n",
    "    def size(self):      # 计算链表长度\n",
    "        current = self.head\n",
    "        count = 0\n",
    "        while current != None:\n",
    "            count += 1\n",
    "            current = current.getNext()\n",
    "        return count\n",
    "    def search(self, item):\n",
    "        current = self.head\n",
    "        find = False\n",
    "        while current != None and not find:\n",
    "            if current.getData() == item:\n",
    "                find = True\n",
    "            else:\n",
    "                current = current.getNext()\n",
    "        if find:\n",
    "            print(\"我找到\",item, \"了！\")\n",
    "        else:\n",
    "            print(\"查无此人！\")\n",
    "        return find\n",
    "    def remove(self,item):\n",
    "        current = self.head\n",
    "        previous = None\n",
    "        found = False\n",
    "        while not found:\n",
    "            if current.getData() == item:\n",
    "                found = True\n",
    "            else:\n",
    "                previous = current\n",
    "                current = current.getNext()\n",
    "        if previous == None:\n",
    "            self.head = current.getNext()\n",
    "        else:\n",
    "            previous.setNext(current.getNext())\n",
    "                \n",
    "            \n",
    "        \n",
    "mylist = UnorderedList()\n",
    "mylist.add(\"黄雨\")\n",
    "mylist.add(\"任丹丹\")\n",
    "mylist.add(\"李闯\")\n",
    "mylist.search(\"黄雨\")\n",
    "print(mylist.size())\n",
    "mylist.remove(\"黄雨\")\n",
    "print(mylist.head.getData())\n",
    "print(mylist.size())"
   ]
  },
  {
   "cell_type": "code",
   "execution_count": 24,
   "metadata": {},
   "outputs": [
    {
     "name": "stdout",
     "output_type": "stream",
     "text": [
      "你好啊黄雨\n"
     ]
    }
   ],
   "source": [
    "item = \"黄雨\"\n",
    "print(\"你好啊%s\"%item)"
   ]
  },
  {
   "cell_type": "code",
   "execution_count": null,
   "metadata": {},
   "outputs": [],
   "source": []
  }
 ],
 "metadata": {
  "kernelspec": {
   "display_name": "Python 3",
   "language": "python",
   "name": "python3"
  },
  "language_info": {
   "codemirror_mode": {
    "name": "ipython",
    "version": 3
   },
   "file_extension": ".py",
   "mimetype": "text/x-python",
   "name": "python",
   "nbconvert_exporter": "python",
   "pygments_lexer": "ipython3",
   "version": "3.6.7"
  }
 },
 "nbformat": 4,
 "nbformat_minor": 4
}
