{
 "cells": [
  {
   "cell_type": "code",
   "execution_count": null,
   "metadata": {
    "collapsed": true
   },
   "outputs": [],
   "source": [
    "# 定义节点\n",
    "class Vertex:\n",
    "    def __init__(self,id):\n",
    "        self.id=id\n",
    "        self.collectedTo= {}\n",
    "    def addNeighbor(self,nbr,weight=0): # 添加邻节点，赋权值\n",
    "        self.collectedTo[nbr] = weight\n",
    "    # 获取与该节点相邻的所有节点\n",
    "    def getCollections(self):\n",
    "        return self.collectedTo.keys()\n",
    "    def getId(self):\n",
    "        return self.id\n",
    "    def getWeight(self,nbr):\n",
    "        return self.collectedTo[nbr]\n",
    "    # ????\n",
    "    def __str__(self):\n",
    "        return str(self.id) + \"collected to:\" + str([x.id for x in self.collectedTo])\n",
    "    \n",
    "    "
   ]
  },
  {
   "cell_type": "code",
   "execution_count": null,
   "metadata": {},
   "outputs": [],
   "source": [
    "#  定义图、\n",
    "\n",
    "def Graph:\n",
    "    def __init__(self,vertList):\n",
    "        self.vertList = {}\n",
    "        self.numVertices = 0\n",
    "     # 在图中添加新的节点   \n",
    "    def addVertex(self,key):\n",
    "        self.numVertices += 1\n",
    "        newVertex = Vertex(key)\n",
    "        self.vertList[key] = newVertex\n",
    "        return newVertex\n",
    "    # 获取一个节点\n",
    "    def getVertex(self,node):\n",
    "        if node in self.vertList:\n",
    "            return self.vertLait[node]\n",
    "        else:\n",
    "            return None\n",
    "        \n",
    "     # 查看是否包含某一节点   \n",
    "    def __contain__(self,node):\n",
    "        return node in self.vertList\n",
    "    \n",
    "    # 添加边\n",
    "    def addEdge(self,f,t,cost):\n",
    "        if f not in self.vertList:\n",
    "            nv = self.addVertex(f)\n",
    "        if t not in self.vertList:\n",
    "            nv = self.addVertex(t)\n",
    "        self.vertList[f].addNeighbor(self.vertList[t], cost)\n",
    "        \n",
    "    # 获取图中所有的顶点\n",
    "    def getVertices(self):\n",
    "        return self.vertList.keys()\n",
    "    # 迭代\n",
    "    \n",
    "    def __iter__(self):\n",
    "        return iter(self.vertList.values())\n",
    "            \n",
    "    \n",
    "    \n"
   ]
  }
 ],
 "metadata": {
  "kernelspec": {
   "display_name": "Python 3",
   "language": "python",
   "name": "python3"
  },
  "language_info": {
   "codemirror_mode": {
    "name": "ipython",
    "version": 3
   },
   "file_extension": ".py",
   "mimetype": "text/x-python",
   "name": "python",
   "nbconvert_exporter": "python",
   "pygments_lexer": "ipython3",
   "version": "3.6.7"
  }
 },
 "nbformat": 4,
 "nbformat_minor": 4
}
