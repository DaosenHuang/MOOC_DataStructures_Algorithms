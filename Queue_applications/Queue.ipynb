{
 "cells": [
  {
   "cell_type": "code",
   "execution_count": 6,
   "metadata": {},
   "outputs": [
    {
     "name": "stdout",
     "output_type": "stream",
     "text": [
      "[9, 8, 7, 6, 5, 4, 3, 2, 1]\n"
     ]
    }
   ],
   "source": [
    "# 队列的定义\n",
    "class queue:\n",
    "    def __init__(self):\n",
    "        self.items = []\n",
    "    def isEmpty(self):\n",
    "        return self.items == []\n",
    "    def enqueue(self,item):\n",
    "        self.items.insert(0, item)\n",
    "    def dequeue(self):\n",
    "        return self.items.pop()\n",
    "    def size(self):\n",
    "        return len(self.items)\n",
    "# 实例化一个队列\n",
    "q = queue()\n",
    "for i in range(10):\n",
    "    q.enqueue(i)\n",
    "q.dequeue()\n",
    "print(q.items)\n"
   ]
  },
  {
   "cell_type": "code",
   "execution_count": 7,
   "metadata": {},
   "outputs": [],
   "source": [
    "# 热土豆问题\n",
    "def getNameList():\n",
    "    nameList = []\n",
    "    name = input(\"请输入一个名字：\")\n",
    "    while name != \"\":\n",
    "        nameList.append(name)\n",
    "        name = input(\"请继续输入一个名字：\")\n",
    "    return nameList\n"
   ]
  },
  {
   "cell_type": "code",
   "execution_count": 10,
   "metadata": {},
   "outputs": [
    {
     "name": "stdout",
     "output_type": "stream",
     "text": [
      "请输入一个名字：黄雨\n",
      "请继续输入一个名字：黄雾\n",
      "请继续输入一个名字：黄云云\n",
      "请继续输入一个名字：陈玉环\n",
      "请继续输入一个名字：陈志贤\n",
      "请继续输入一个名字：任丹丹\n",
      "请继续输入一个名字：任嘉兴\n",
      "请继续输入一个名字：陈旭\n",
      "请继续输入一个名字：李闯\n",
      "请继续输入一个名字：\n",
      "['黄雨', '黄雾', '黄云云', '陈玉环', '陈志贤', '任丹丹', '任嘉兴', '陈旭', '李闯']\n",
      "['陈玉环', '黄云云', '黄雾', '黄雨', '李闯', '陈旭', '任嘉兴', '任丹丹']\n",
      "['李闯', '陈旭', '任嘉兴', '任丹丹', '陈玉环', '黄云云', '黄雾']\n",
      "['任丹丹', '陈玉环', '黄云云', '黄雾', '李闯', '陈旭']\n",
      "['黄云云', '黄雾', '李闯', '陈旭', '任丹丹']\n",
      "['黄雾', '李闯', '陈旭', '任丹丹']\n",
      "['黄雾', '李闯', '陈旭']\n",
      "['陈旭', '黄雾']\n",
      "['陈旭']\n"
     ]
    },
    {
     "data": {
      "text/plain": [
       "'陈旭'"
      ]
     },
     "execution_count": 10,
     "metadata": {},
     "output_type": "execute_result"
    }
   ],
   "source": [
    "# 定义热土豆游戏\n",
    "def hotPotato(num, nameList): # num是每轮交替土豆的次数\n",
    "    qq = queue()\n",
    "    print(nameList)\n",
    "    for name in nameList:\n",
    "        qq.enqueue(name)\n",
    "    while qq.size() != 1:\n",
    "        for i in range(num):\n",
    "            qq.enqueue(qq.dequeue())\n",
    "        qq.dequeue()\n",
    "        print(qq.items)\n",
    "    return qq.dequeue()\n",
    "hotPotato(4,getNameList())"
   ]
  },
  {
   "cell_type": "code",
   "execution_count": null,
   "metadata": {},
   "outputs": [],
   "source": []
  }
 ],
 "metadata": {
  "kernelspec": {
   "display_name": "Python 3",
   "language": "python",
   "name": "python3"
  },
  "language_info": {
   "codemirror_mode": {
    "name": "ipython",
    "version": 3
   },
   "file_extension": ".py",
   "mimetype": "text/x-python",
   "name": "python",
   "nbconvert_exporter": "python",
   "pygments_lexer": "ipython3",
   "version": "3.6.7"
  }
 },
 "nbformat": 4,
 "nbformat_minor": 4
}
