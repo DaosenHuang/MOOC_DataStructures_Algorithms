{
 "cells": [
  {
   "cell_type": "code",
   "execution_count": 6,
   "metadata": {},
   "outputs": [
    {
     "name": "stdout",
     "output_type": "stream",
     "text": [
      "111\n",
      "2711\n"
     ]
    }
   ],
   "source": [
    "#  任意进制转换\n",
    "def toStr(n,base):\n",
    "    ConvertString = '0123456789ABCDEF'\n",
    "    if n<base:\n",
    "        return ConvertString[n]\n",
    "    else:\n",
    "        return toStr(n//base,base) + ConvertString[n % base]\n",
    "print(toStr(7,2))\n",
    "print(toStr(10001,16))"
   ]
  },
  {
   "cell_type": "code",
   "execution_count": 1,
   "metadata": {},
   "outputs": [],
   "source": [
    "# 画螺线\n",
    "import turtle\n",
    "t = turtle.Turtle()\n",
    "t.pensize(1)\n",
    "def drawspiral(t,linlength):\n",
    "    if linlength>0:\n",
    "        t.forward(linlength)\n",
    "        t.right(90)\n",
    "        drawspiral(t,linlength-5)\n",
    "drawspiral(t,100)"
   ]
  },
  {
   "cell_type": "code",
   "execution_count": 1,
   "metadata": {},
   "outputs": [],
   "source": [
    "# 画树形图\n",
    "import turtle\n",
    "def tree(branch_len):\n",
    "    if branch_len>5:\n",
    "        t.forward(branch_len)\n",
    "        t.right(30)\n",
    "        tree(branch_len-15)\n",
    "        t.left(60)\n",
    "        tree(branch_len-15)\n",
    "        t.right(30)\n",
    "        t.backward(branch_len)\n",
    "t=turtle.Turtle()\n",
    "t.left(90)\n",
    "t.penup()\n",
    "t.backward(100)\n",
    "t.pendown()\n",
    "t.pencolor(\"red\")\n",
    "t.pensize(2)\n",
    "tree(75)\n",
    "\n",
    "turtle.done()\n",
    "        "
   ]
  },
  {
   "cell_type": "code",
   "execution_count": 1,
   "metadata": {},
   "outputs": [
    {
     "name": "stdout",
     "output_type": "stream",
     "text": [
      "移动1号盘子从#1到#2\n",
      "移动2号盘子从#1到#3\n",
      "移动1号盘子从#2到#3\n",
      "移动3号盘子从#1到#2\n",
      "移动1号盘子从#3到#1\n",
      "移动2号盘子从#3到#2\n",
      "移动1号盘子从#1到#2\n",
      "移动4号盘子从#1到#3\n",
      "移动1号盘子从#2到#3\n",
      "移动2号盘子从#2到#1\n",
      "移动1号盘子从#3到#1\n",
      "移动3号盘子从#2到#3\n",
      "移动1号盘子从#1到#2\n",
      "移动2号盘子从#1到#3\n",
      "移动1号盘子从#2到#3\n"
     ]
    }
   ],
   "source": [
    "# 汉诺塔问题求解\n",
    "def moveTower(height, fromTower, withTower, toTower):\n",
    "    if height >=1:\n",
    "        moveTower(height-1,fromTower,toTower,withTower)\n",
    "        movedisk(height,fromTower,toTower)\n",
    "        moveTower(height-1,withTower,fromTower,toTower)\n",
    "def movedisk(disk,fromTower,toTower):\n",
    "    print(f\"移动{disk}号盘子从{fromTower}到{toTower}\")\n",
    "moveTower(4,\"#1\",\"#2\",\"#3\")\n",
    "   "
   ]
  },
  {
   "cell_type": "code",
   "execution_count": 9,
   "metadata": {
    "scrolled": false
   },
   "outputs": [
    {
     "data": {
      "text/plain": [
       "[4, 7, 12, 12, 32, 45, 67]"
      ]
     },
     "execution_count": 9,
     "metadata": {},
     "output_type": "execute_result"
    }
   ],
   "source": [
    "# 快速排序\n",
    "def quick_sort(arr):\n",
    "    if len(arr)<2:\n",
    "        return arr\n",
    "    else:\n",
    "        middle = arr[0]\n",
    "        left = [i for i in arr[1:] if i <= middle]\n",
    "        right = [j for j in arr[1:] if j > middle]\n",
    "        left_sorted = quick_sort(left)\n",
    "        right_sorted = quick_sort(right)\n",
    "    return left_sorted+[middle]+right_sorted\n",
    "    \n",
    "list = [12,45,7,12,4,67,32]\n",
    "quick_sort(list)"
   ]
  },
  {
   "cell_type": "code",
   "execution_count": 4,
   "metadata": {},
   "outputs": [
    {
     "name": "stdout",
     "output_type": "stream",
     "text": [
      "6\n",
      "用时：59.7816031\n"
     ]
    }
   ],
   "source": [
    "# 找零兑换问题\n",
    "def Calcoins(coinvalueList,change):\n",
    "    mincoins = change\n",
    "    if change in coinvalueList:\n",
    "        return 1\n",
    "    else:\n",
    "        \n",
    "        for i in [c for c in coinvalueList if c < change]:\n",
    "            numcoins = 1+Calcoins(coinvalueList,change-i)\n",
    "            if numcoins<mincoins:\n",
    "                mincoins=numcoins\n",
    "        return mincoins\n",
    "import time\n",
    "start=time.clock()\n",
    "print(Calcoins([1,5,10,25],63))\n",
    "end=time.clock()\n",
    "print(f\"用时：{end-start}\")\n",
    "                "
   ]
  },
  {
   "cell_type": "code",
   "execution_count": 14,
   "metadata": {},
   "outputs": [
    {
     "name": "stdout",
     "output_type": "stream",
     "text": [
      "29\n"
     ]
    }
   ],
   "source": [
    "# 背包问题求解 /////动态规划\n",
    "\n",
    "# 背包能够装载的最大重量\n",
    "max_weight = 20\n",
    "# 物品的重量和对应的价值\n",
    "treasure = [None,{\"weight\":2,\"value\":3},{\"weight\":3,\"value\":4},{\"weight\":4,\"value\":8},{\"weight\":5,\"value\":8},{\"weight\":9,\"value\":10}]\n",
    "# 用字典初始化表格，都赋值为0\n",
    "m = {(i,w):0 for i in range(len(treasure))\n",
    "                 for w in range(max_weight+1)}\n",
    "# print(m)\n",
    "for i in range(1,len(treasure)):\n",
    "    for w in range(1,max_weight+1):\n",
    "        if treasure[i][\"weight\"] > w:  # 如果第i件物品的重量超过了最大负重\n",
    "            m[(i,w)] = m[(i-1,w)]\n",
    "        else:\n",
    "            m[(i,w)] = max(m[(i-1,w)], m[(i-1,w-treasure[i][\"weight\"])]+treasure[i][\"value\"])\n",
    "print( m[(5,20)])\n",
    "        \n",
    "\n"
   ]
  },
  {
   "cell_type": "code",
   "execution_count": 12,
   "metadata": {},
   "outputs": [
    {
     "name": "stdout",
     "output_type": "stream",
     "text": [
      "2\n"
     ]
    }
   ],
   "source": []
  },
  {
   "cell_type": "code",
   "execution_count": null,
   "metadata": {},
   "outputs": [],
   "source": []
  }
 ],
 "metadata": {
  "kernelspec": {
   "display_name": "Python 3",
   "language": "python",
   "name": "python3"
  },
  "language_info": {
   "codemirror_mode": {
    "name": "ipython",
    "version": 3
   },
   "file_extension": ".py",
   "mimetype": "text/x-python",
   "name": "python",
   "nbconvert_exporter": "python",
   "pygments_lexer": "ipython3",
   "version": "3.6.7"
  }
 },
 "nbformat": 4,
 "nbformat_minor": 4
}
