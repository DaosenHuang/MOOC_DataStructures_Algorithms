{
 "cells": [
  {
   "cell_type": "code",
   "execution_count": 6,
   "metadata": {},
   "outputs": [
    {
     "name": "stdout",
     "output_type": "stream",
     "text": [
      "111\n",
      "2711\n"
     ]
    }
   ],
   "source": [
    "#  任意进制转换\n",
    "def toStr(n,base):\n",
    "    ConvertString = '0123456789ABCDEF'\n",
    "    if n<base:\n",
    "        return ConvertString[n]\n",
    "    else:\n",
    "        return toStr(n//base,base) + ConvertString[n % base]\n",
    "print(toStr(7,2))\n",
    "print(toStr(10001,16))"
   ]
  },
  {
   "cell_type": "code",
   "execution_count": 1,
   "metadata": {},
   "outputs": [],
   "source": [
    "# 画螺线\n",
    "import turtle\n",
    "t = turtle.Turtle()\n",
    "t.pensize(1)\n",
    "def drawspiral(t,linlength):\n",
    "    if linlength>0:\n",
    "        t.forward(linlength)\n",
    "        t.right(90)\n",
    "        drawspiral(t,linlength-5)\n",
    "drawspiral(t,100)"
   ]
  },
  {
   "cell_type": "code",
   "execution_count": 1,
   "metadata": {},
   "outputs": [],
   "source": [
    "# 画树形图\n",
    "import turtle\n",
    "def tree(branch_len):\n",
    "    if branch_len>5:\n",
    "        t.forward(branch_len)\n",
    "        t.right(30)\n",
    "        tree(branch_len-15)\n",
    "        t.left(60)\n",
    "        tree(branch_len-15)\n",
    "        t.right(30)\n",
    "        t.backward(branch_len)\n",
    "t=turtle.Turtle()\n",
    "t.left(90)\n",
    "t.penup()\n",
    "t.backward(100)\n",
    "t.pendown()\n",
    "t.pencolor(\"red\")\n",
    "t.pensize(2)\n",
    "tree(75)\n",
    "\n",
    "turtle.done()\n",
    "        "
   ]
  },
  {
   "cell_type": "code",
   "execution_count": null,
   "metadata": {},
   "outputs": [],
   "source": []
  },
  {
   "cell_type": "code",
   "execution_count": null,
   "metadata": {},
   "outputs": [],
   "source": []
  }
 ],
 "metadata": {
  "kernelspec": {
   "display_name": "Python 3",
   "language": "python",
   "name": "python3"
  },
  "language_info": {
   "codemirror_mode": {
    "name": "ipython",
    "version": 3
   },
   "file_extension": ".py",
   "mimetype": "text/x-python",
   "name": "python",
   "nbconvert_exporter": "python",
   "pygments_lexer": "ipython3",
   "version": "3.6.7"
  }
 },
 "nbformat": 4,
 "nbformat_minor": 4
}
