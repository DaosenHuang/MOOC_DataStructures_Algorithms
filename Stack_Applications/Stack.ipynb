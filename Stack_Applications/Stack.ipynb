{
 "cells": [
  {
   "cell_type": "code",
   "execution_count": 5,
   "metadata": {},
   "outputs": [
    {
     "name": "stdout",
     "output_type": "stream",
     "text": [
      "[0, 1, 2, 3, 4, 5, 6, 7, 8]\n",
      "8\n"
     ]
    }
   ],
   "source": [
    "# 定义一个栈\n",
    "class Stack:\n",
    "    def __init__(self):\n",
    "        self.items = []\n",
    "    def isEmpty(self):\n",
    "        return self.items == []\n",
    "    def push(self, item):\n",
    "        self.items.append(item)\n",
    "    def pop(self):\n",
    "        return self.items.pop()\n",
    "    def size(self):\n",
    "        return len(self.items)\n",
    "    def peek(self):\n",
    "        return self.items[-1]\n",
    "    \n",
    "# 实例化一个栈\n",
    "s = Stack()\n",
    "for i in range(10):\n",
    "    s.push(i)\n",
    "s.pop()\n",
    "print(s.items)\n",
    "print(s.peek())"
   ]
  },
  {
   "cell_type": "code",
   "execution_count": 20,
   "metadata": {},
   "outputs": [
    {
     "name": "stdout",
     "output_type": "stream",
     "text": [
      "中缀表达式： 1+2/4+3*(2+2)\n",
      "['1', '2', '4', '/', '+', '3', '2', '2', '+', '*', '+']\n",
      "后缀表达式为： 124/+322+*+\n"
     ]
    },
    {
     "data": {
      "text/plain": [
       "'124/+322+*+'"
      ]
     },
     "execution_count": 20,
     "metadata": {},
     "output_type": "execute_result"
    }
   ],
   "source": [
    "# 中缀表达式转换为后缀表达式\n",
    "\n",
    "\n",
    "def InfixToPostfix(infixStr):\n",
    "    print(\"中缀表达式：\",infixStr)\n",
    "    operators={}\n",
    "    operators[\"+\"]=2\n",
    "    operators[\"-\"]=2\n",
    "    operators[\"*\"]=3\n",
    "    operators[\"/\"]=3\n",
    "    operators[\"(\"]=1\n",
    "    opstack=Stack()\n",
    "    postfixList=[]\n",
    "   # tokenList=infixStr.split()\n",
    "   # print(tokenList)\n",
    "    for token in infixStr:\n",
    "        if token in \"abcdefghijklmnopqrstuvwxyzABCDEFGHIJKLMNOPQRSTUVWXYZ\" or token in \"0123456789\":\n",
    "            postfixList.append(token)\n",
    "        elif token==\"(\": # 左括号直接压入栈\n",
    "            opstack.push(token)\n",
    "        elif token==\")\":\n",
    "            toptoken=opstack.pop()\n",
    "            while toptoken != \"(\":\n",
    "                postfixList.append(toptoken)\n",
    "                toptoken=opstack.pop()\n",
    "        else:\n",
    "            while not (opstack.isEmpty()) and operators[opstack.peek()] >= operators[token]:\n",
    "                postfixList.append(opstack.pop())\n",
    "            opstack.push(token)\n",
    "    while not opstack.isEmpty():\n",
    "        postfixList.append(opstack.pop())\n",
    "    print(postfixList)    \n",
    "    postfixStr=\"\".join(postfixList)    \n",
    "    print(\"后缀表达式为：\",postfixStr) \n",
    "    return postfixStr\n",
    "            \n",
    "InfixToPostfix(\"1+2/4+3*(2+2)\")\n",
    "    "
   ]
  },
  {
   "cell_type": "code",
   "execution_count": 21,
   "metadata": {},
   "outputs": [
    {
     "name": "stdout",
     "output_type": "stream",
     "text": [
      "请输入您要计算表达式：2-1+1\n",
      "中缀表达式： 2-1+1\n",
      "['2', '1', '-', '1', '+']\n",
      "后缀表达式为： 21-1+\n",
      "计算结果为： 2\n"
     ]
    }
   ],
   "source": [
    "# 后缀表达式计算\n",
    "def CalPostfix(postfixStr):\n",
    "    opStack=Stack()\n",
    "    for token in postfixStr:\n",
    "        if token in \"0123456789\":\n",
    "            opStack.push(int(token))\n",
    "        else:\n",
    "            right=opStack.pop()\n",
    "            left=opStack.pop()\n",
    "            result=doMath(token,left,right)\n",
    "            opStack.push(result)\n",
    "    return opStack.pop()\n",
    "def doMath(op,op1,op2):\n",
    "    if op==\"*\":\n",
    "        return op1*op2\n",
    "    elif op==\"/\":\n",
    "        return op1/op2\n",
    "    elif op==\"-\":\n",
    "        return op1-op2\n",
    "    else:\n",
    "        return op1+op2\n",
    "    \n",
    "def main():\n",
    "    expression = input(\"请输入您要计算表达式：\")\n",
    "    postfixStr=InfixToPostfix(expression)\n",
    "    value=CalPostfix(postfixStr)\n",
    "    print(\"计算结果为：\",value)\n",
    "    \n",
    "main()    \n",
    "    "
   ]
  },
  {
   "cell_type": "code",
   "execution_count": null,
   "metadata": {},
   "outputs": [],
   "source": []
  },
  {
   "cell_type": "code",
   "execution_count": null,
   "metadata": {},
   "outputs": [],
   "source": []
  }
 ],
 "metadata": {
  "kernelspec": {
   "display_name": "Python 3",
   "language": "python",
   "name": "python3"
  },
  "language_info": {
   "codemirror_mode": {
    "name": "ipython",
    "version": 3
   },
   "file_extension": ".py",
   "mimetype": "text/x-python",
   "name": "python",
   "nbconvert_exporter": "python",
   "pygments_lexer": "ipython3",
   "version": "3.6.7"
  }
 },
 "nbformat": 4,
 "nbformat_minor": 4
}
